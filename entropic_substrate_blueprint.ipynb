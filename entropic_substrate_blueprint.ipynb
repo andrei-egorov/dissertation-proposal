{
 "cells": [
  {
   "cell_type": "code",
   "execution_count": 147,
   "id": "0f0377fc",
   "metadata": {},
   "outputs": [],
   "source": [
    "import numpy as np\n",
    "from decimal import Decimal\n",
    "from math import log\n",
    "import random\n",
    "import copy"
   ]
  },
  {
   "cell_type": "code",
   "execution_count": 76,
   "id": "7182916a",
   "metadata": {},
   "outputs": [],
   "source": [
    "#initialize variables\n",
    "N = 10\n",
    "init_nrg = 1\n",
    "release_coef = 1\n",
    "N_moves = 10\n",
    "early_stop = 10"
   ]
  },
  {
   "cell_type": "code",
   "execution_count": 162,
   "id": "2fbacc95",
   "metadata": {},
   "outputs": [
    {
     "name": "stdout",
     "output_type": "stream",
     "text": [
      "[[0, 0, 1, 1], [1, 1, 1, 0], [2, 2, 1, 1], [3, 3, 1, 0], [4, 4, 1, 1], [5, 5, 1, 0], [6, 6, 1, 1], [7, 7, 1, 0], [8, 8, 1, 1], [9, 9, 1, 0]]\n"
     ]
    }
   ],
   "source": [
    "#initialize universum (intermittent type)\n",
    "U = [[i, i, init_nrg, 0] if i % 2 else [i, i, init_nrg, 1] for i in range(N)]\n",
    "print(U)"
   ]
  },
  {
   "cell_type": "code",
   "execution_count": 130,
   "id": "ebd89b28",
   "metadata": {},
   "outputs": [],
   "source": [
    "def get_form(U):\n",
    "    '''retrive form'''\n",
    "    form_state = []\n",
    "    for bitom in U:\n",
    "        form_state.append(bitom[3])\n",
    "    return form_state"
   ]
  },
  {
   "cell_type": "code",
   "execution_count": 131,
   "id": "d4949a45",
   "metadata": {},
   "outputs": [],
   "source": [
    "def bin_deriv(arr):\n",
    "    arr1 = arr[1:]\n",
    "    arr2 = arr[:-1]\n",
    "    output_arr = []\n",
    "    for i in range(len(arr)-1):\n",
    "        x1 = arr1[i]\n",
    "        x2 = arr2[i]\n",
    "        output_arr.append(bool(x1) != bool(x2))\n",
    "    return output_arr\n",
    "\n",
    "def bin_deriv_k(arr, k):\n",
    "    return arr if k == 0 else bin_deriv(bin_deriv_k(arr, k-1))\n",
    "\n",
    "def bien(arr):\n",
    "    t = Decimal(0)\n",
    "    s_k = arr\n",
    "    for k in range(len(arr)-1):\n",
    "        ones = s_k.count(1)\n",
    "        n = len(s_k)\n",
    "        p = float(ones)/n\n",
    "        e = 0 if p == 0 else -p*log(p, 2)\n",
    "        g = 0 if p == 1 else -(1-p)*log(1-p, 2)\n",
    "        t_k = Decimal(e+g)*Decimal(2**k)\n",
    "        t += t_k\n",
    "        s_k = bin_deriv(s_k)\n",
    "    return float(t/Decimal(2**(len(arr)-1)-1))\n",
    "\n",
    "def tbien(arr):\n",
    "    l = 0\n",
    "    t = 0\n",
    "    if len(arr) == 1:\n",
    "        raise ValueError(\n",
    "            'the input string is too short')\n",
    "    s_k = arr\n",
    "    for k in range(len(arr)-1):\n",
    "        ones = s_k.count(1)\n",
    "        n = len(s_k)\n",
    "        p = float(ones)/n\n",
    "        e = 0 if p == 0 else -p*log(p, 2)\n",
    "        g = 0 if p == 1 else -(1-p)*log(1-p, 2)\n",
    "        l_k = log(k+2, 2)\n",
    "        t_k = (e+g)*l_k\n",
    "        l += l_k\n",
    "        t += t_k\n",
    "        s_k = bin_deriv(s_k)\n",
    "    return (1./l)*t"
   ]
  },
  {
   "cell_type": "code",
   "execution_count": 132,
   "id": "548b5305",
   "metadata": {},
   "outputs": [],
   "source": [
    "def calculate_entropy(form_state):\n",
    "    '''entropy calculation function'''\n",
    "    return tbien(form_state) #placeholder"
   ]
  },
  {
   "cell_type": "code",
   "execution_count": 133,
   "id": "689806f1",
   "metadata": {},
   "outputs": [
    {
     "name": "stdout",
     "output_type": "stream",
     "text": [
      "0.045890376550990146\n",
      "[1, 0, 1, 0, 1, 0, 1, 0, 1, 0]\n"
     ]
    }
   ],
   "source": [
    "old_entropy = calculate_entropy(get_form(U))\n",
    "print(old_entropy)\n",
    "print(get_form(U))"
   ]
  },
  {
   "cell_type": "code",
   "execution_count": 145,
   "id": "a34afdee",
   "metadata": {},
   "outputs": [],
   "source": [
    "def move(arr):\n",
    "    '''make jumps and re-arrange''' #have a feeling it works in-place\n",
    "    arr_new = copy.deepcopy(arr)\n",
    "    for i, bitom in enumerate(arr_new):\n",
    "        old_pos = bitom[1] = i\n",
    "        energy = bitom[2]\n",
    "        magnitude = random.randrange(energy+1)\n",
    "        direction = random.randrange(2)*2 - 1\n",
    "        jump = direction * magnitude\n",
    "        new_pos = (old_pos + jump) % N\n",
    "        remain_nrg = energy - magnitude\n",
    "        bitom[2] = remain_nrg\n",
    "        bitom[0] = new_pos\n",
    "    return sorted(arr_new)"
   ]
  },
  {
   "cell_type": "code",
   "execution_count": 155,
   "id": "496eb7b1",
   "metadata": {},
   "outputs": [
    {
     "name": "stdout",
     "output_type": "stream",
     "text": [
      "[[1, 2, 0, 1], [2, 1, 0, 0], [3, 3, 1, 0], [3, 4, 0, 1], [4, 5, 0, 0], [6, 6, 1, 1], [7, 7, 1, 0], [7, 8, 0, 1], [9, 0, 0, 1], [9, 9, 1, 0]]\n",
      "[1, 0, 0, 1, 0, 1, 0, 1, 1, 0]\n"
     ]
    }
   ],
   "source": [
    "#move one step\n",
    "U_test = move(U)\n",
    "print(U_test)\n",
    "print(get_form(U_test))"
   ]
  },
  {
   "cell_type": "code",
   "execution_count": 153,
   "id": "4b299f38",
   "metadata": {},
   "outputs": [],
   "source": [
    "#calculate new entropy and energy release\n",
    "new_entropy = calculate_entropy(get_form(U))\n",
    "entropy_change = new_entropy - old_entropy\n",
    "nrg_release = entropy_change * release_coef"
   ]
  },
  {
   "cell_type": "code",
   "execution_count": 88,
   "id": "3943666a",
   "metadata": {},
   "outputs": [],
   "source": [
    "def energy_allocation(form_state):\n",
    "    '''calculate distribution of energy change\n",
    "    depending on substring entropies'''\n",
    "    arr = form_state\n",
    "    master_array = np.array([0]*N)\n",
    "    for conv_len in range(2, N):\n",
    "        for i in range(N):\n",
    "            aux_array = [0]*N\n",
    "            start = i\n",
    "            end = i + conv_len\n",
    "            if end > N:\n",
    "                sub_arr = arr[i:] + arr[:end-N]\n",
    "                entropy = calculate_entropy(sub_arr)\n",
    "                aux_array[i:] = [entropy]*(N-i)\n",
    "                aux_array[:end-N] = [entropy]*(end-N)\n",
    "            else:\n",
    "                sub_arr = arr[start:end]\n",
    "                entropy = calculate_entropy(sub_arr)\n",
    "                aux_array[start:end] = [entropy]*conv_len\n",
    "            master_array = master_array + np.array(aux_array)\n",
    "    if master_array.sum() != 0: #when can it be equal to zero?\n",
    "        master_array = master_array / master_array.sum()\n",
    "    return master_array"
   ]
  },
  {
   "cell_type": "code",
   "execution_count": 89,
   "id": "35ca1873",
   "metadata": {},
   "outputs": [],
   "source": [
    "#energy release per bitom\n",
    "nrg_release_bitom = nrg_release * energy_allocation(get_form(U))"
   ]
  },
  {
   "cell_type": "code",
   "execution_count": 90,
   "id": "63439a0f",
   "metadata": {},
   "outputs": [],
   "source": [
    "def get_energy(U):\n",
    "    '''retrieve energy'''\n",
    "    energy_state = []\n",
    "    for bitom in U:\n",
    "        energy_state.append(bitom[2])\n",
    "    return energy_state"
   ]
  },
  {
   "cell_type": "code",
   "execution_count": 92,
   "id": "4e56350f",
   "metadata": {},
   "outputs": [],
   "source": [
    "#calculate new energy state\n",
    "energy_state = np.array(get_energy(U))\n",
    "energy_state = energy_state + np.array(nrg_release_bitom)"
   ]
  },
  {
   "cell_type": "code",
   "execution_count": 93,
   "id": "563525c4",
   "metadata": {},
   "outputs": [],
   "source": [
    "def set_energy(energy_state, U):\n",
    "    for i, bitom in enumerate(U):\n",
    "        bitom[2] += energy_state[i]"
   ]
  },
  {
   "cell_type": "code",
   "execution_count": 94,
   "id": "f178c3f3",
   "metadata": {},
   "outputs": [],
   "source": [
    "#pack new energy back\n",
    "set_energy(energy_state, U)"
   ]
  },
  {
   "cell_type": "code",
   "execution_count": 166,
   "id": "3876bd84",
   "metadata": {},
   "outputs": [],
   "source": [
    "def create_U(N, init_nrg, init_mode):\n",
    "    '''create universum with minumum entropy state\n",
    "    of a certain kind'''\n",
    "    assert init_mode in ['interm', 'even']\n",
    "    i_e = init_nrg\n",
    "    if init_mode == 'interm':\n",
    "        U = [[i, i, i_e, 0] if i % 2 else [i, i, i_e, 1] for i in range(N)]\n",
    "    else:\n",
    "        U = [[i, i, i_e, 0] if i < N/2 else [i, i, i_e, 1] for i in range(N)]\n",
    "    return U"
   ]
  },
  {
   "cell_type": "code",
   "execution_count": 171,
   "id": "e95626ab",
   "metadata": {},
   "outputs": [
    {
     "name": "stdout",
     "output_type": "stream",
     "text": [
      "0 [1, 0, 0, 0, 0, 0, 0, 0, 0, 0, 0, 1, 1, 1, 1, 1, 1, 1, 1, 1]\n",
      "1 [1, 0, 0, 0, 0, 0, 0, 0, 0, 0, 1, 0, 1, 1, 1, 1, 1, 1, 1, 1]\n",
      "2 [1, 0, 0, 0, 0, 0, 0, 0, 0, 1, 0, 1, 0, 1, 1, 1, 1, 1, 1, 1]\n",
      "3 [1, 0, 0, 0, 0, 0, 0, 0, 1, 0, 0, 1, 0, 1, 1, 1, 1, 1, 1, 1]\n",
      "early stop\n"
     ]
    }
   ],
   "source": [
    "#workable loop\n",
    "N = 20\n",
    "init_nrg = 1\n",
    "release_coef = 1\n",
    "N_moves = 10\n",
    "early_stop = 10\n",
    "init_mode = 'even'\n",
    "\n",
    "U = create_U(N, init_nrg, init_mode)\n",
    "\n",
    "for t in range(10):\n",
    "    old_entropy = calculate_entropy(get_form(U))\n",
    "    es_counter = 0 #early stop counter\n",
    "    entropy_change = 0\n",
    "    while entropy_change <= 0 and es_counter < early_stop:\n",
    "        U_new = move(U)\n",
    "        new_entropy = calculate_entropy(get_form(U_new))\n",
    "        entropy_change = new_entropy - old_entropy\n",
    "        es_counter += 1\n",
    "    if es_counter == early_stop:\n",
    "        print('early stop')\n",
    "        break\n",
    "    U = U_new\n",
    "    print(t, get_form(U))\n",
    "    nrg_release = entropy_change * release_coef\n",
    "    nrg_release_bitom = nrg_release * energy_allocation(get_form(U))\n",
    "    energy_state = np.array(get_energy(U))\n",
    "    energy_state = energy_state + np.array(nrg_release_bitom)\n",
    "    energy_state = energy_state.astype(int)\n",
    "    set_energy(energy_state, U)"
   ]
  },
  {
   "cell_type": "code",
   "execution_count": null,
   "id": "0e3dec53",
   "metadata": {},
   "outputs": [],
   "source": []
  }
 ],
 "metadata": {
  "kernelspec": {
   "display_name": "Python 3 (ipykernel)",
   "language": "python",
   "name": "python3"
  },
  "language_info": {
   "codemirror_mode": {
    "name": "ipython",
    "version": 3
   },
   "file_extension": ".py",
   "mimetype": "text/x-python",
   "name": "python",
   "nbconvert_exporter": "python",
   "pygments_lexer": "ipython3",
   "version": "3.7.12"
  }
 },
 "nbformat": 4,
 "nbformat_minor": 5
}
